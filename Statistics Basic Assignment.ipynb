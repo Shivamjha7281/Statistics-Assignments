{
 "cells": [
  {
   "cell_type": "markdown",
   "id": "68b98db5-6eee-4417-8d72-1eb186d2b98f",
   "metadata": {},
   "source": [
    "# Assignment Questions:"
   ]
  },
  {
   "cell_type": "markdown",
   "id": "e0100f0f-d240-4d48-987a-f92708067e4b",
   "metadata": {},
   "source": [
    "**1. Explain the different types of data (qualitative and quantitative) and provide examples of each. Discuss\n",
    "nominal, ordinal, interval, and ratio scales.**"
   ]
  },
  {
   "cell_type": "markdown",
   "id": "68d4f93c-103d-48ee-9b13-3ea89c061748",
   "metadata": {},
   "source": [
    "Different Types of Data:\n",
    "\n",
    "(I) Qualitative Data (Descriptive Data):\n",
    "   - Think of \"qualitative\" as \"quality.\" This type of data describes things using words, labels, or categories. You can't count or measure it with numbers in a meaningful way. It tells you what kind or what quality.\n",
    "  \n",
    "   - Example: My friends' favorite colors.\n",
    "     - Friend A: Blue\n",
    "     - Friend B: Red\n",
    "     - Friend C: Green\n",
    "     - We can't do math with \"blue,\" \"red,\" or \"green.\" They are just names for categories.\n",
    "\n",
    "(II) Quantitative Data (Numerical Data):\n",
    "    - Think of \"quantitative\" as \"quantity.\" This type of data deals with numbers. You can count or measure it. It tells you how many or how much.\n",
    "  \n",
    "    - Example: Your friends' ages.\n",
    "      - Friend A: 25 years old\n",
    "      - Friend B: 28 years old\n",
    "      - Friend C: 22 years old\n",
    "      - We can do math with these numbers (e.g., find the average age)."
   ]
  },
  {
   "cell_type": "markdown",
   "id": "e4ee8c47-892d-42b1-98b2-fd695bb7b7d3",
   "metadata": {},
   "source": [
    "(III) Nominal Scale (Just Names/Categories):\n",
    "- This is the lowest step on the ladder. It's for data that are just names or labels for different categories. There's no order or ranking among them. You can't say one category is \"better\" or \"more\" than another.\n",
    "- Easy Example: Eye Color\n",
    "- Blue, Brown, Green, Black\n",
    "- You can't say \"blue eyes\" are higher or lower than \"brown eyes.\" They are just different types.\n",
    "\n",
    "(IV) Ordinal Scale (Ordered Categories):\n",
    "- This is the next step up. Here, the data still falls into categories, but there's a meaningful order or ranking to these categories. However, you can't really say how much better or worse one category is from the next. The \"distance\" between the ranks might not be equal.\n",
    "- Example: Educational Levels\n",
    "- High School, Bachelor's Degree, Master's Degree, PhD\n",
    "- There's a clear order of achievement, but the \"gap\" in knowledge or effort between a High School diploma and a Bachelor's might not be the same as between a Master's and a PhD.\n",
    "- You know \"Very Satisfied\" is better than \"Satisfied,\" but you can't say the jump from \"Dissatisfied\" to \"Neutral\" is the exact same \"amount of satisfaction\" as the jump from \"Neutral\" to \"Satisfied.\"\n",
    "\n",
    "(V) Interval Scale (Ordered with Equal Gaps, No True Zero):\n",
    "- Now we're dealing with numbers, and the difference between numbers is meaningful and equal. The \"steps\" on the ladder are all the same size. However, there's no \"true zero point,\" meaning zero doesn't mean \"nothing\" of what's being measured.\n",
    "- Example: Temperature in Celsius or Fahrenheit\n",
    "- 0°C, 10°C, 20°C, 30°C\n",
    "- The difference between 10°C and 20°C (10 degrees) is the same as the difference between 20°C and 30°C (10 degrees).\n",
    "- But 0°C doesn't mean \"no temperature.\" It's just a point on the scale. You can have negative temperatures. Also, 20°C is not \"twice as hot\" as 10°C in terms of actual heat energy.\n",
    "\n",
    "(VI) Ratio Scale (Ordered with Equal Gaps and a True Zero):\n",
    "- This is the highest and most informative step. It has all the qualities of an interval scale (ordered, equal gaps), PLUS it has a true zero point. A true zero means that zero actually indicates the complete absence of the thing being measured. Because of this, you can do all sorts of math, including meaningful ratios (like saying \"twice as much\").\n",
    "-  Example: Height\n",
    "- 0 cm means no height at all.\n",
    "- Someone who is 180 cm tall is exactly twice as tall as someone who is 90 cm tall.\n",
    "- You can compare heights using ratios directly."
   ]
  },
  {
   "cell_type": "markdown",
   "id": "68e4b664-62c1-4e78-8847-e00c18199e53",
   "metadata": {},
   "source": [
    "**2.  What are the measures of central tendency, and when should you use each? Discuss the mean, median,\n",
    "and mode with examples and situations where each is appropriate.**"
   ]
  },
  {
   "cell_type": "markdown",
   "id": "ecd5e38a-4c17-41da-be2c-ce736604fd0d",
   "metadata": {},
   "source": [
    "Imagine you have a group of friends, and you want to describe their typical height. You could try different ways to find that \"typical\" height. These different ways are called measures of central tendency. They help us find a single value that best represents the center or middle of a set of data.\n",
    "\n",
    "There are three main ways to do this: the Mean, the Median, and the Mode:\n",
    "\n",
    "(I) Mean (The Average)\n",
    "- The mean is what most people commonly refer to as the \"average.\" You get it by adding up all the numbers in your data set and then dividing by how many numbers there are.\n",
    "- To calculate Mean Sum of all values / Number of values.\n",
    "- Let's say your friends' heights in cm are: 160, 165, 170, 162, 163.\n",
    "- Sum = 160 + 165 + 170 + 162 + 163 = 820\n",
    "- Number of friends = 5\n",
    "- Mean = 820 / 5 = 164 cm\n",
    "\n",
    "(II) Median (The Middle Value)\n",
    "- The median is the middle number in a data set when the numbers are arranged in order from smallest to largest (or largest to smallest). It's like finding the exact halfway point.\n",
    "- to calculate Median:-\n",
    "- Arrange your data in ascending (or descending) order.\n",
    "- If you have an odd number of values, the median is the single middle value.\n",
    "- If you have an even number of values, the median is the average of the two middle values.\n",
    "- Example 1: (Odd number of values):\n",
    "- our friends' heights: 160, 165, 170, 162, 163\n",
    "- Order them: 160, 162, 163, 165, 170\n",
    "- The middle value is 163. So, the median is 163 cm.\n",
    "- Example 2: (Even number of values): Let's add another friend with height 175 cm: 160, 165, 170, 162, 163, 175\n",
    "- Order them: 160, 162, 163, 165, 170, 175\n",
    "- The two middle values are 163 and 165.\n",
    "- Median = (163 + 165) / 2 = 328 / 2 = 164 cm.\n",
    "\n",
    "(III) Mode (The Most Frequent Value)\n",
    "- The mode is the value that appears most often in your data set. If there are no repeated values, there is no mode. If there are two values that appear most frequently, it's called \"bimodal,\" and so on.\n",
    "- To calculate Mode -\n",
    "- Simply count how many times each value appears and find the one (or ones) with the highest count.\n",
    "- Example : Your friends' favorite colors: Blue, Red, Green, Blue, Yellow, Blue, Red\n",
    "- Blue appears 3 times.\n",
    "- Red appears 2 times.\n",
    "- Green appears 1 time.\n",
    "- Yellow appears 1 time.\n",
    "- The mode is Blue because it appears most frequently."
   ]
  },
  {
   "cell_type": "markdown",
   "id": "651676ea-f06f-4d7c-a677-380d2ce78770",
   "metadata": {},
   "source": [
    "**3. Explain the concept of dispersion. How do variance and standard deviation measure the spread of data?**"
   ]
  },
  {
   "cell_type": "markdown",
   "id": "13f6c524-4d28-4914-9013-315dcbf017bf",
   "metadata": {},
   "source": [
    "Imagine you're trying to describe how consistent a cricket batsman is. If you only know their average score (the mean), you don't get the whole picture. One batsman might average 50 runs, but sometimes scores 0 and sometimes 100. Another batsman might also average 50 runs, but consistently scores between 45 and 55. Both have the same \"center\" (mean), but their scores spread out differently.\n",
    "\n",
    "This \"spread out\" or \"scatter\" of data is what we call dispersion (or variability, or spread). Measures of dispersion tell us how much individual data points differ from the average, and from each other. They help us understand the consistency, risk, or predictability of data.\n",
    "\n",
    "\n",
    "If data points are close to the average, the dispersion is low (data is tightly packed). If they are far from the average, the dispersion is high (data is widely scattered)."
   ]
  },
  {
   "cell_type": "markdown",
   "id": "c13efcd8-ce11-4f68-bb4e-17366fb7bf76",
   "metadata": {},
   "source": [
    "Variance and Standard Deviation are two of the most common and powerful ways to measure dispersion. They both tell you how spread out your data is around the mean.\n",
    "\n",
    "(I) Variance (Average of Squared Differences from the Mean)\n",
    "- Variance is like taking all your data points, seeing how far each one is from the mean, squaring those distances, and then averaging the squared distances.\n",
    "\n",
    "Why square the differences?\n",
    "- If you just added up the direct differences from the mean, positive differences would cancel out negative differences, and you'd always get zero (the mean is the balance point!).\n",
    "- Squaring makes all differences positive, so they don't cancel out.\n",
    "- Squaring also gives more weight to larger differences, highlighting extreme values.\n",
    "\n",
    "Calculation Steps:\n",
    "- Find the mean of your data set.\n",
    "- For each data point, subtract the mean (this gives you the \"deviation\" from the mean).\n",
    "- Square each of these deviations.\n",
    "- Add up all the squared deviations.\n",
    "- Divide this sum by the number of data points (or by n-1 for a sample, but let's keep it simple for now).\n",
    "\n",
    "Example:\n",
    "- Let's look at the daily scores of two imaginary batsmen in 5 matches.\n",
    "    - Batsman A scores: 48, 50, 52 (Mean = 50)\n",
    "    - Batsman B scores: 0, 50, 100 (Mean = 50)\n",
    "- Let's calculate the variance for Batsman A:\n",
    "- Mean = 50\n",
    "\n",
    "Deviations:\n",
    "- 48 - 50 = -2\n",
    "- 50 - 50 = 0\n",
    "- 52 - 50 = 2\n",
    "\n",
    "Squared Deviations:\n",
    "- (−2)*2 =4\n",
    "- (0)*2 = 0\n",
    "- (2)*2 = 4\n",
    "\n",
    "Sum of Squared Deviations = 4+0+4=8\n",
    "\n",
    "Variance = 8/3=2.67"
   ]
  },
  {
   "cell_type": "markdown",
   "id": "3897aa07-d7a0-4220-b72c-b0f2a92fa20a",
   "metadata": {},
   "source": [
    "Now for Batsman B:\n",
    "- Mean = 50\n",
    "- Deviations:\n",
    "    - 0 - 50 = -50\n",
    "    - 50 - 50 = 0\n",
    "    - 100 - 50 = 50\n",
    "- Squared Deviations:\n",
    "    - (−50)*2 = 2500\n",
    "    - (0)*2 = 0\n",
    "    - (50)*2 = 2500\n",
    "- Sum of Squared Deviations = 2500+0+2500 = 5000\n",
    "- Variance = 5000/3 = 1666.67"
   ]
  },
  {
   "cell_type": "markdown",
   "id": "3a779af3-c628-4ec8-99f1-7586813a1c18",
   "metadata": {},
   "source": [
    "* What does Variance tell us?\n",
    "  - A small variance (like 2.67 for Batsman A) means the data points are generally close to the mean, indicating high consistency.\n",
    "  - A large variance (like 1666.67 for Batsman B) means the data points are widely spread out from the mean, indicating low consistency or high volatility.\n",
    "  - The problem with variance: Its units are squared. If your data is in \"cm,\" your variance is in \"cm$^2$.\" This makes it hard to intuitively understand the spread in the original units."
   ]
  },
  {
   "cell_type": "markdown",
   "id": "635a1c8e-8478-4c4f-9698-995fba5c4814",
   "metadata": {},
   "source": [
    "Standard Deviation (The Typical Distance from the Mean):\n",
    "\n",
    "- The standard deviation is simply the square root of the variance. It's the most commonly used measure of dispersion because it brings the measure of spread back into the original units of the data.\n",
    "\n",
    "- to Calculate Standard Deviation - "
   ]
  },
  {
   "attachments": {
    "2b3b0c48-8a8a-44fc-9b30-8cc5e1dc75cc.png": {
     "image/png": "[encoded data removed]"
    }
   },
   "cell_type": "markdown",
   "id": "48e4e2a2-6d73-44ad-9a7e-4f18531a4a8e",
   "metadata": {},
   "source": [
    "![image.png](attachment:2b3b0c48-8a8a-44fc-9b30-8cc5e1dc75cc.png)"
   ]
  },
  {
   "cell_type": "markdown",
   "id": "01d13078-f8bb-4ae6-ae56-a625d2f7a5e1",
   "metadata": {},
   "source": [
    "What does Standard Deviation tell us?\n",
    "- It tells you the typical or average distance that a data point is from the mean.\n",
    "- For Batsman A, a standard deviation of 1.63 cm means that, on average, his scores deviate by about 1.63 cm from his average score of 50. This confirms he is very consistent.\n",
    "- For Batsman B, a standard deviation of 40.82 cm means that, on average, his scores deviate by about 40.82 cm from his average score of 50. This confirms he is very inconsistent/volatile.\n",
    "- The standard deviation is in the same units as your original data (e.g., cm, rupees, kilograms), making it much easier to interpret than variance."
   ]
  },
  {
   "cell_type": "markdown",
   "id": "0cd06330-1cb0-403c-8c91-0fd94e8a9d4d",
   "metadata": {},
   "source": [
    "**4. What is a box plot, and what can it tell you about the distribution of data?**"
   ]
  },
  {
   "cell_type": "markdown",
   "id": "1bcfe6ea-3c5f-4dc7-8f2a-581213cc26d1",
   "metadata": {},
   "source": [
    "A box plot (also called a box-and-whisker plot) is a very simple and clear way to show how a set of numbers is spread out. Imagine you have a list of numbers, and you want to quickly see their middle, how squished or stretched they are, and if there are any really unusual numbers. A box plot does exactly that!\n",
    "\n",
    "It draws a \"box\" and \"whiskers\" (lines) that capture the main features of your data's spread.\n",
    "\n",
    "Example: Daily Sales of Ice Cream Cones:-\n",
    "- Let's say you own an ice cream shop, and you record the number of ice cream cones you sell each day for 11 days.\n",
    "- Number of cones sold each day: 20, 22, 25, 28, 30, 32, 35, 38, 40, 42, 70\n",
    "- Notice that \"70\" at the end? That was a very busy day!\n",
    "\n",
    "What a Box Plot Shows (The \"Five-Number Summary\"):\n",
    "- A box plot is built using five key numbers from your data:\n",
    "    - A box plot is built using five key numbers from your data:\n",
    "    - First Quartile (Q1 / 25th Percentile): 25% of your sales are below this number. It's the bottom edge of the box.\n",
    "    - Median (Q2 / 50th Percentile): The exact middle number of your data. Half the sales are below, half are above. This is the line inside the box.\n",
    "    - Third Quartile (Q3 / 75th Percentile): 75% of your sales are below this number. It's the top edge of the box.\n",
    "    - Maximum Value: The largest number in your data (excluding extreme \"outliers\").\n",
    "    - Outliers: Any numbers that are way too big or way too small compared to the rest are often plotted as separate dots beyond the whiskers."
   ]
  },
  {
   "cell_type": "markdown",
   "id": "b6a3c0da-7bf1-4bf9-8606-b52c08008763",
   "metadata": {},
   "source": [
    "Let's find these for our Ice Cream Sales Example:\n",
    "- First, always order your data from smallest to largest:\n",
    "20, 22, 25, 28, 30, 32, 35, 38, 40, 42, 70 (Total 11 days)\n",
    "  -  Minimum Value: 20 (the lowest sale)\n",
    "  - Median (Q2): This is the middle number. Since we have 11 numbers, the 6th number is the middle one. 20, 22, 25, 28, 30, **32**, 35, 38, 40, 42, 70 So, the Median = 32\n",
    "  - First Quartile (Q1): This is the middle of the first half of the data (numbers before the median: 20, 22, 25, 28, 30). The middle of these 5 numbers is the 3rd one. 20, 22, **25**, 28, 30 So, Q1 = 25\n",
    "  - Third Quartile (Q3): This is the middle of the second half of the data (numbers after the median: 35, 38, 40, 42, 70). The middle of these 5 numbers is the 3rd one in this group. 35, 38, **40**, 42, 70 So, Q3 = 40\n",
    "  - Maximum Value (and Outlier check):\n",
    "Usually, whiskers extend to the min/max unless there are outliers. We need a rule to find outliers. A common rule is: any value below Q1 - 1.5 * IQR or above Q3 + 1.5 * IQR.\n",
    "  - IQR (Interquartile Range) = Q3 - Q1 = 40 - 25 = 15\n",
    "  - Upper outlier limit: Q3 + 1.5 * IQR = 40 + (1.5 * 15) = 40 + 22.5 = 62.5\n",
    "  - Lower outlier limit: Q1 - 1.5 * IQR = 25 - (1.5 * 15) = 25 - 22.5 = 2.5\n",
    "  - Our max value is 70. Since 70 is greater than 62.5, 70 is an outlier!\n",
    "  - So, our Upper Whisker will go up to the largest value that is not an outlier, which is 42. Our Lower Whisker will go down to 20."
   ]
  },
  {
   "cell_type": "markdown",
   "id": "7fbf9e81-2019-453c-a546-47e45e5d9e85",
   "metadata": {},
   "source": [
    "Your box plot visually breaks down your ice cream sales data:\n",
    "\n",
    "- Median (32 cones): This is your typical sales day; half the time you sell 32 cones or less, and half the time you sell 32 cones or more.\n",
    "\n",
    "- Middle 50% (Box from 25 to 40 cones): Most of your sales fall consistently within this range.\n",
    "\n",
    "- Overall Spread (Whiskers from 20 to 42 cones): This shows the range of most of your daily sales, excluding outliers. The sales below 25 cones are a bit more spread out than those above 40.\n",
    "\n",
    "- Skewness (Right-Skewed): The plot leans to the right because of a longer upper whisker and the outlier at 70 cones. This means you typically have average to lower sales, but occasionally hit a very high sales day.\n",
    "\n",
    "- Outlier (70 cones): The single point at 70 indicates a highly unusual sales day, worth investigating to understand what made it so different."
   ]
  },
  {
   "cell_type": "markdown",
   "id": "9a149be1-0dfb-40b7-aa98-fefe5449dc5f",
   "metadata": {},
   "source": [
    "**5. Discuss the role of random sampling in making inferences about populations.**"
   ]
  },
  {
   "cell_type": "markdown",
   "id": "9dbeb23c-40a3-4d77-b107-cf49d6022432",
   "metadata": {},
   "source": [
    "Random sampling is crucial because it helps us make reliable guesses (inferences) about a large group (the population) by only studying a small part of it (the sample).\n",
    "\n",
    "How it works:\n",
    "\n",
    "- Fair Selection: Random sampling ensures every member of the population has an equal chance of being chosen for the sample.\n",
    "\n",
    "- No Bias: This fairness prevents our sample from being lopsided or misleading, making it a good \"mini-version\" of the whole population.\n",
    "\n",
    "  \n",
    "- Trustworthy Conclusions: Because the sample is representative, we can confidently apply what we learn from it to the entire population, saving time and resources.\n",
    "\n",
    "- Example: To know the favorite ice cream flavor of all kids in Motihari, you can't ask every single child. If you randomly select 100 kids from different schools and areas, their preferences are likely to reflect the preferences of all kids in Motihari. If you only ask kids at one specific ice cream parlor, your sample would be biased."
   ]
  },
  {
   "cell_type": "markdown",
   "id": "d89d3813-9127-46e7-8af8-e53fe8a6b5e1",
   "metadata": {},
   "source": [
    "**6. Explain the concept of skewness and its types. How does skewness affect the interpretation of data?**"
   ]
  },
  {
   "cell_type": "markdown",
   "id": "b7af8c71-5f2a-4830-b55b-44979e6b7ddc",
   "metadata": {},
   "source": [
    "Skewness :-\n",
    "\n",
    "- Imagine you have a perfectly balanced seesaw. \n",
    "- That's like a symmetrical set of data, where values are evenly spread out on both sides of the middle.\n",
    "- Skewness is simply a measure of how \"lopsided\" or \"asymmetrical\" your data is. \n",
    "- It tells you if the data is leaning more to one side than the other."
   ]
  },
  {
   "cell_type": "markdown",
   "id": "0227cb47-a3d9-4809-b62f-ca121d547ea4",
   "metadata": {},
   "source": [
    "Types of Skewness :- \n",
    "\n",
    "- Zero Skewness (Symmetrical): Data is balanced, like a bell curve. Mean, median, and mode are roughly equal.\n",
    "- Positive Skewness (Right-Skewed): Long \"tail\" on the right. Few high values pull the average up. Mean > Median > Mode. (e.g., Incomes)\n",
    "- Negative Skewness (Left-Skewed): Long \"tail\" on the left. Few low values pull the average down. Mean < Median < Mode. (e.g., Ages of death)"
   ]
  },
  {
   "cell_type": "markdown",
   "id": "b975e2bb-8626-4ec1-b3ea-d66d58186560",
   "metadata": {},
   "source": [
    "Skewness affect the interpretation of data :- \n",
    "\n",
    "- Misleading Averages: The mean can be unrepresentative; the median is often better for skewed data.\n",
    "- Statistical Assumptions: Many tests assume symmetry; skewness can invalidate results.\n",
    "- Outlier Clues: Indicates where extreme values (outliers) are likely to be.\n",
    "- Model Performance: Skewed data can hurt the accuracy of predictive models."
   ]
  },
  {
   "cell_type": "markdown",
   "id": "b7430e32-2023-4486-8b09-f96f439e97f5",
   "metadata": {},
   "source": [
    "skewness tells you the shape of your data, helping you choose the right tools and avoid misinterpreting averages or drawing wrong conclusions."
   ]
  },
  {
   "cell_type": "markdown",
   "id": "5dcc72ab-ed96-43a2-96b7-741ee1b1ccc5",
   "metadata": {},
   "source": [
    "**7. What is the interquartile range (IQR), and how is it used to detect outliers?**"
   ]
  },
  {
   "cell_type": "markdown",
   "id": "ccfe0061-8d23-4864-b649-c21a1c437897",
   "metadata": {},
   "source": [
    "Interquartile range (IQR) :- \n",
    "\n",
    " - The interquartile range (IQR) is a way of evaluating how spread out data is, specifically the middle portion of it.\n",
    " - Imagine you have some numbers (like children's ages, or test scores). You order them from smallest to largest.\n",
    "     - Quartile 1 (Q1): This is the point below which 25% of your data falls.\n",
    "     - Quartile 3 (Q3): This is the point below which 75% of your data falls.\n",
    " - IQR = Q3 - Q1\n",
    " - The IQR tells you how much range there is in the middle 50% of your data. It tells you how spread out the numbers in the middle half are."
   ]
  },
  {
   "cell_type": "markdown",
   "id": "4196ba9d-06f1-490c-b7ff-6bf1194f6626",
   "metadata": {},
   "source": [
    "How to spot outliers using IQR?\n",
    "\n",
    "- Outliers are data points that are very different or strange from the rest of the data. These are easy to find using IQR:\n",
    "    - Find IQR: First find Q1 and Q3, then find their difference (Q3 - Q1).\n",
    "    - Create a fence:\n",
    "        - Lower fence: Q1 - (1.5 * IQR)\n",
    "        - Upper fence: Q3 + (1.5 * IQR)\n",
    "- Any numbers that fall outside these fences (i.e. less than the lower fence or greater than the upper fence) are considered outliers."
   ]
  },
  {
   "cell_type": "markdown",
   "id": "61eea5b3-9621-47a7-989d-e02809444f84",
   "metadata": {},
   "source": [
    "**8. Discuss the conditions under which the binomial distribution is used.**"
   ]
  },
  {
   "cell_type": "markdown",
   "id": "f5336c1e-8d19-48fb-a3c1-05990ada5717",
   "metadata": {},
   "source": [
    "Binomial distribution is used when you do something repeatedly and each time it can have only two outcomes.\n",
    "\n",
    "To use it, some conditions must be met:\n",
    "\n",
    "- Fixed Number of Trials: You must know in advance how many times you will do the task. For example, if you toss a coin 10 times, then the number of 'trials' is 10, which is fixed.\n",
    "- Two Outcomes: Every time you do something, there should be only two possible outcomes. One is considered a 'success' (like getting heads) and the other is considered a 'failure' (like getting tails). \"Yes\" or \"no\" questions.\n",
    "- Independent Trials: The result of one time should not have any effect on the result of the next time. If the coin comes out heads on tossing once, it does not mean that the next time it comes out tails. Every toss is different from each other.\n",
    "- Constant Probability of Success: The probability of getting 'success' should be the same every time. If you are tossing a fair coin, the probability of getting heads (0.5) is the same every time."
   ]
  },
  {
   "cell_type": "markdown",
   "id": "dfe7a4a8-c131-4d3b-8022-c81a5f9cf728",
   "metadata": {},
   "source": [
    "Imagine you are playing a game in which you do the same thing over and over again (e.g. putting a ball in the basket).\n",
    "\n",
    "- You know how many times you will try (fixed number of trials).\n",
    "- Each trial has only two outcomes - either the ball goes in (success) or it doesn't (failure).\n",
    "- The outcome of one trial does not affect the next (independent trials).\n",
    "- Your ability (probability) to put the ball in the basket is the same on each trial (probability of success is always constant).\n",
    "- If all these conditions are met, you can use the Binomial distribution to find how many times you will succeed (e.g. the ball goes in the basket) and what the probability is."
   ]
  },
  {
   "cell_type": "markdown",
   "id": "334f5c2d-6cbb-4263-b245-048a4d237642",
   "metadata": {},
   "source": [
    "**9. Explain the properties of the normal distribution and the empirical rule (68-95-99.7 rule).**"
   ]
  },
  {
   "cell_type": "markdown",
   "id": "0a550067-9034-40fb-9775-7ed397ebb639",
   "metadata": {},
   "source": [
    "Normal distribution:- \n",
    "\n",
    "Imagine you have a lot of data, such as the heights of children, the IQ scores of people, or the length of leaves on a tree. If you plot this data on a graph, some of the data forms a certain kind of bell-shaped curve. This is called a normal distribution or bell curve.\n",
    "\n",
    "Properties of Normal Distribution:-\n",
    "\n",
    "- Bell-Shaped: When you graph the data, it looks like a bell. It's highest in the middle and tapers off at the tails. This means that most of the data is around the middle and very little data is at the edges (very few people are very tall or very short).\n",
    "- Symmetrical: This curve is perfectly balanced in the middle. If you fold it in half, both sides would be mirror images of each other.\n",
    "- Mean, Median, and Mode are Equal: In a normal distribution, the mean (average), the median (middle value), and the mode (most frequent value) are all at the same point, which is the highest point of the curve.\n",
    "- Defined by Two Things: To fully understand this curve, you only need two pieces of information:\n",
    "    - Mean (μ): This is the center point of the curve. It tells you where the data is concentrated.\n",
    "    - Standard Deviation (σ): This tells you how spread out the data is from the mean. If the standard deviation is small, the curve will be tall and narrow (data is close to the mean). If it's large, the curve will be wide and flat (data is more spread out).\n",
    "- Never Touches the X-axis: The edges (tails) of the curve get closer and closer to the X-axis (the horizontal line at the bottom), but they theoretically never actually touch it. This implies that any value (extremely small or extremely large) is theoretically possible, though their probability becomes incredibly tiny."
   ]
  },
  {
   "cell_type": "markdown",
   "id": "66869fa1-6185-4620-8ee2-fb49bfa52058",
   "metadata": {},
   "source": [
    "The Empirical Rule (68-95-99.7 Rule):- \n",
    "\n",
    "- This rule helps you understand how much of your data falls within certain distances from the mean, using the standard deviation as a measure of spread.\n",
    "    - Standard Deviation (σ): This number tells you how spread out the data is from the mean.\n",
    " \n",
    "Now let's look at the rule:\n",
    "\n",
    "- 68% Rule: Approximately 68% of your data will fall within 1 standard deviation of the mean.\n",
    "  - This means 68% of the data will be between (μ−1σ) and (μ+1σ).\n",
    "    - Example: If the average test score in a class is 70 and the standard deviation is 5, then 68% of the students scored between 65 (70-5) and 75 (70+5).\n",
    "- 95% Rule: Approximately 95% of your data will fall within 2 standard deviations of the mean.\n",
    "    - This means 95% of the data will be between (μ−2σ) and (μ+2σ).\n",
    "    - Example: In the same test, 95% of the students scored between 60 (70-2*5) and 80 (70+2*5).\n",
    "- 99.7% Rule: Approximately 99.7% of your data will fall within 3 standard deviations of the mean.\n",
    "    - This means 99.7% of the data will be between (μ−3σ) and (μ+3σ).\n",
    "    - Example: In the same test, 99.7% of the students scored between 55 (70-3*5) and 85 (70+3*5)."
   ]
  },
  {
   "cell_type": "markdown",
   "id": "f36b38d6-bbb3-4ea9-8f83-f243b8807cc8",
   "metadata": {},
   "source": [
    "This rule tells us that most of your data is clustered around the average. As you move further away from the average, the number of data points drops off very quickly. Since 99.7% of the data falls within 3 standard deviations of the mean, any numbers outside these boundaries are considered highly unusual (outliers). This rule helps us quickly understand our data and identify those unusual values."
   ]
  },
  {
   "cell_type": "markdown",
   "id": "37a8db71-ac68-4119-9f7a-e87885ee89af",
   "metadata": {},
   "source": [
    "**10. Provide a real-life example of a Poisson process and calculate the probability for a specific event.**"
   ]
  },
  {
   "cell_type": "markdown",
   "id": "12ec5bf5-ce16-4d14-967d-5bc6854acc4f",
   "metadata": {},
   "source": [
    "What is a Poisson Process?\n",
    "\n",
    "- Imagine you want to count how many times a certain event happens within a fixed period of time or in a specific area. A Poisson Process is a way to model how rare and independent events occur over a fixed interval of time or space.\n",
    "\n",
    "its key characteristics:\n",
    "\n",
    "- Rare Events: The events you're counting don't happen very frequently.\n",
    "- Independent Events: One event happening (or not happening) doesn't affect whether another event will happen.\n",
    "- Average Rate (λ): You know the average number of times the event occurs within that fixed time or space.\n",
    "- This average rate is represented by the Greek letter lambda (λ).\n",
    "- Fixed Time/Space: You are observing the events within a defined period (e.g., one hour) or a defined area (e.g., one square meter).\n",
    "- In simple terms: A Poisson process helps you figure out the probability of a certain number of occurrences for something (that usually doesn't happen often) within a specific timeframe or area."
   ]
  },
  {
   "cell_type": "markdown",
   "id": "a11178fa-f50a-4b0a-ad32-fb5974c8c834",
   "metadata": {},
   "source": [
    "Real-Life Example :- \n",
    "\n",
    "Scenario: A call center receives an average of 5 calls per hour. We want to find the probability of receiving exactly 7 calls in the next hour.\n",
    "\n",
    "Here:\n",
    "\n",
    "- Event: A call coming in.\n",
    "- Time Period: 1 hour.\n",
    "- Average Rate (λ): 5 calls per hour.\n",
    "- Number of events we're interested in (k): Exactly 7 calls.\n",
    "\n",
    "How to Calculate the Probability\n",
    "\n",
    "To calculate a Poisson probability, we use a specific formula:"
   ]
  },
  {
   "attachments": {
    "4137c661-d615-4d6a-9867-70b01fb90206.png": {
     "image/png": "[encoded data removed]"
    }
   },
   "cell_type": "markdown",
   "id": "14c89352-3a32-4974-9876-cd3bc2ed5de6",
   "metadata": {},
   "source": [
    "![image.png](attachment:4137c661-d615-4d6a-9867-70b01fb90206.png)"
   ]
  },
  {
   "cell_type": "raw",
   "id": "4c64e6a0-8340-4457-b720-3c6c4981e4b4",
   "metadata": {},
   "source": [
    "Where:\n",
    "\n",
    "P(X=k) = The probability of exactly k events occurring.\n",
    "λ = The average rate of events.\n",
    "e = A special mathematical constant, approximately 2.71828 (called 'Euler's number').\n",
    "k! = The factorial of k (which means k×(k−1)×(k−2)×⋯×1. For example, 7!=7×6×5×4×3×2×1=5040)."
   ]
  },
  {
   "cell_type": "raw",
   "id": "8953a202-c071-456d-8364-dd1fea169ccd",
   "metadata": {},
   "source": [
    "Now, let's calculate for our example:\n",
    "\n",
    "λ=5 (average 5 calls per hour)\n",
    "k=7 (we want to know the probability of exactly 7 calls)"
   ]
  },
  {
   "cell_type": "markdown",
   "id": "ca9341f9-5961-4254-a58c-bf1532014dd3",
   "metadata": {},
   "source": [
    "Plug these values into the formula:"
   ]
  },
  {
   "attachments": {
    "ce6939ce-17a2-4e62-b5c1-b684bee9c6ef.png": {
     "image/png": "[encoded data removed]"
    }
   },
   "cell_type": "markdown",
   "id": "0922610b-8a31-400e-9daa-e1d1b5969ee2",
   "metadata": {},
   "source": [
    "![image.png](attachment:ce6939ce-17a2-4e62-b5c1-b684bee9c6ef.png)"
   ]
  },
  {
   "cell_type": "markdown",
   "id": "a1066ae8-0085-4e84-95ff-db79bece0ad4",
   "metadata": {},
   "source": [
    "Now, substitute these values back into the formula:"
   ]
  },
  {
   "attachments": {
    "b662a4e6-1f87-45ed-8f91-2980339164c2.png": {
     "image/png": "[encoded data removed]"
    }
   },
   "cell_type": "markdown",
   "id": "00ccd312-7957-46d3-a83b-1daa5009f654",
   "metadata": {},
   "source": [
    "![image.png](attachment:b662a4e6-1f87-45ed-8f91-2980339164c2.png)"
   ]
  },
  {
   "cell_type": "markdown",
   "id": "27417ce6-dbfd-4e7a-b7f4-3458bb17039b",
   "metadata": {},
   "source": [
    "So, what does this mean?\n",
    "\n",
    "The probability of receiving exactly 7 calls in the next hour is approximately 0.10453 or about 10.45%.\n",
    "\n",
    "In simple terms: The Poisson process is a tool that helps us predict how often something relatively rare will happen within a specific time or space."
   ]
  },
  {
   "cell_type": "markdown",
   "id": "c8d0e7e3-3b4c-4605-8a15-1668938b5c7b",
   "metadata": {},
   "source": [
    "**11. Explain what a random variable is and differentiate between discrete and continuous random variables.**"
   ]
  },
  {
   "cell_type": "markdown",
   "id": "5bd168f8-ca01-4a43-934b-a25c379c6762",
   "metadata": {},
   "source": [
    "What is a Random Variable?\n",
    "\n",
    "Imagine you're doing something where the outcome isn't certain (like flipping a coin, rolling a dice, or measuring someone's height). When you perform such an activity, it results in a numerical outcome.\n",
    "\n",
    "A random variable is simply a variable that represents the outcomes of an uncertain experiment as numbers.\n",
    "\n",
    "In super simple terms: It's a number that comes from the result of an event where you don't know exactly what's going to happen beforehand. For example, when you flip a coin, you can get heads or tails. If you assign 'Heads' a value of 1 and 'Tails' a value of 0, then that 0 or 1 is a random variable."
   ]
  },
  {
   "cell_type": "markdown",
   "id": "d1c9e1ef-b430-43b9-a43a-0b55dbb404b3",
   "metadata": {},
   "source": [
    "Types of Random Variables\n",
    "\n",
    "There are two main types of random variables:\n",
    "\n",
    "1. Discrete Random Variable\n",
    "    - These are random variables that can only take on countable or distinct values. There are no possible values in between the ones it can take. You can count them, like 0, 1, 2, 3, and so on, or 5, 10, 15, etc.\n",
    "    - Examples:\n",
    "        - The number of heads when flipping coins: If you flip 2 coins, you can get 0, 1, or 2 heads. You can't get 1.5 heads. These are separate, distinct numbers.\n",
    "        - The number of calls a call center receives in an hour: You can count 0 calls, 1 call, 2 calls, etc. You can't receive 3.75 calls.\n",
    "        - The number of children in a family: 0, 1, 2, 3... children.\n",
    "2. Continuous Random Variable\n",
    "   - These are random variables that can take any value within a given range, including decimals and fractions. You can't count them; there are infinitely many possible values between any two given values.\n",
    "   - Examples:\n",
    "       - A person's height: Someone can be 160 cm, 160.5 cm, 160.55 cm, or 160.555 cm. Between any two heights, there are infinitely many possible heights.\n",
    "       - The distance a car travels in a day: It could be 100 km, 100.25 km, or 100.257 km.\n",
    "       - The temperature of a cup of tea: It could be 50 degrees Celsius, 50.1 degrees, 50.12 degrees, and so on.\n",
    "       - The lifespan of a battery: It could be 10 hours, 10.3 hours, 10.345 hours, etc."
   ]
  },
  {
   "cell_type": "markdown",
   "id": "ecebaa34-7bf6-4d7b-bb9f-fef828d7340d",
   "metadata": {},
   "source": [
    "Key Difference\n",
    "\n",
    "- Discrete: You can count the possible values.\n",
    "- Continuous: You can measure the values (they can take on any value within a range).\n",
    "\n",
    "So, a random variable expresses the numerical outcome of an uncertain experiment, and it can be either discrete (countable values) or continuous (measurable values, anywhere within a range)."
   ]
  },
  {
   "cell_type": "markdown",
   "id": "08d7e5a4-6162-4572-a89a-4d3d942facdd",
   "metadata": {},
   "source": [
    "**12. Provide an example dataset, calculate both covariance and correlation, and interpret the results.**"
   ]
  },
  {
   "cell_type": "code",
   "execution_count": 70,
   "id": "1bcf963f-94d7-4e2f-8b6d-54d19931ece1",
   "metadata": {},
   "outputs": [],
   "source": [
    "import pandas as pd\n",
    "import numpy as np\n",
    "import statistics"
   ]
  },
  {
   "cell_type": "code",
   "execution_count": 103,
   "id": "bd38ba05-2747-467c-9887-6df6814fc9a4",
   "metadata": {},
   "outputs": [],
   "source": [
    "data = {\n",
    "    'X': [2, 3, 4, 5, 6],       # Study Hours\n",
    "    'Y': [65, 70, 75, 80, 85]   # Marks Scored\n",
    "}\n",
    "\n",
    "df = pd.DataFrame(data)"
   ]
  },
  {
   "cell_type": "markdown",
   "id": "ae79b77d-699c-4c95-8f7a-9e7746ecb972",
   "metadata": {},
   "source": [
    "Covariance :- "
   ]
  },
  {
   "cell_type": "code",
   "execution_count": 108,
   "id": "fe98366e-b98a-4e46-8524-f438fb91d6a5",
   "metadata": {},
   "outputs": [
    {
     "data": {
      "text/plain": [
       "10.0"
      ]
     },
     "execution_count": 108,
     "metadata": {},
     "output_type": "execute_result"
    }
   ],
   "source": [
    "covariance = np.cov(df['X'], df['Y'], bias=True)[0][1]\n",
    "covariance"
   ]
  },
  {
   "cell_type": "markdown",
   "id": "3b894008-2a60-4a42-ba75-b6bafe21704a",
   "metadata": {},
   "source": [
    "Correlation:-"
   ]
  },
  {
   "cell_type": "code",
   "execution_count": 117,
   "id": "204f5068-b407-427d-a891-e1fc7be3056a",
   "metadata": {},
   "outputs": [
    {
     "data": {
      "text/plain": [
       "1.0"
      ]
     },
     "execution_count": 117,
     "metadata": {},
     "output_type": "execute_result"
    }
   ],
   "source": [
    "correlation = np.corrcoef(df['X'], df['Y'])[0][1]\n",
    "correlation"
   ]
  },
  {
   "cell_type": "markdown",
   "id": "a30be7ed-d983-4267-a4db-966c9d8a9014",
   "metadata": {},
   "source": [
    "Interpretation:"
   ]
  },
  {
   "cell_type": "markdown",
   "id": "c592720e-7c74-42b4-9fc6-2c8e2383b5ec",
   "metadata": {},
   "source": [
    "Covariance = 10.0: Positive relation – As the study hours increase, marks also increase.\n",
    "\n",
    "Correlation = 1.0: Perfect positive linear relation – Both variables are perfectly linearly connected."
   ]
  },
  {
   "cell_type": "code",
   "execution_count": null,
   "id": "fb46b794-e9b2-46f4-bdda-53d26e9e56c8",
   "metadata": {},
   "outputs": [],
   "source": []
  }
 ],
 "metadata": {
  "kernelspec": {
   "display_name": "Python 3 (ipykernel)",
   "language": "python",
   "name": "python3"
  },
  "language_info": {
   "codemirror_mode": {
    "name": "ipython",
    "version": 3
   },
   "file_extension": ".py",
   "mimetype": "text/x-python",
   "name": "python",
   "nbconvert_exporter": "python",
   "pygments_lexer": "ipython3",
   "version": "3.12.7"
  }
 },
 "nbformat": 4,
 "nbformat_minor": 5
}
